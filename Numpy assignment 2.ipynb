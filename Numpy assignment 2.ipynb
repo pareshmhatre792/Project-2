{
 "cells": [
  {
   "cell_type": "code",
   "execution_count": 2,
   "id": "d5b28172",
   "metadata": {},
   "outputs": [],
   "source": [
    "import numpy as np"
   ]
  },
  {
   "cell_type": "markdown",
   "id": "108e1771",
   "metadata": {},
   "source": [
    "# Create a 5x5 matrix with row values ranging from 0 to 4"
   ]
  },
  {
   "cell_type": "code",
   "execution_count": 3,
   "id": "6cd8be7c",
   "metadata": {},
   "outputs": [],
   "source": [
    "x = np.zeros((5,5))\n",
    "x += np.arange(5)"
   ]
  },
  {
   "cell_type": "code",
   "execution_count": 4,
   "id": "72fd3d41",
   "metadata": {},
   "outputs": [
    {
     "data": {
      "text/plain": [
       "array([[0., 1., 2., 3., 4.],\n",
       "       [0., 1., 2., 3., 4.],\n",
       "       [0., 1., 2., 3., 4.],\n",
       "       [0., 1., 2., 3., 4.],\n",
       "       [0., 1., 2., 3., 4.]])"
      ]
     },
     "execution_count": 4,
     "metadata": {},
     "output_type": "execute_result"
    }
   ],
   "source": [
    "x"
   ]
  },
  {
   "cell_type": "markdown",
   "id": "9d12b4ab",
   "metadata": {},
   "source": [
    "# Multiply a 5x3 matrix by a 3x2 matrix (real matrix product)"
   ]
  },
  {
   "cell_type": "code",
   "execution_count": 5,
   "id": "3ba30ac2",
   "metadata": {},
   "outputs": [],
   "source": [
    "x = np.random.random((5,3))"
   ]
  },
  {
   "cell_type": "code",
   "execution_count": 6,
   "id": "e503ec9b",
   "metadata": {},
   "outputs": [
    {
     "data": {
      "text/plain": [
       "array([[0.26330251, 0.91258366, 0.5442374 ],\n",
       "       [0.8811686 , 0.36824915, 0.9841451 ],\n",
       "       [0.62407566, 0.69134378, 0.25341107],\n",
       "       [0.12898759, 0.64945652, 0.53686964],\n",
       "       [0.74560342, 0.98772621, 0.44378351]])"
      ]
     },
     "execution_count": 6,
     "metadata": {},
     "output_type": "execute_result"
    }
   ],
   "source": [
    "x"
   ]
  },
  {
   "cell_type": "code",
   "execution_count": 7,
   "id": "131d24a4",
   "metadata": {},
   "outputs": [],
   "source": [
    "y = np.random.random((3,2))"
   ]
  },
  {
   "cell_type": "code",
   "execution_count": 8,
   "id": "6c7ad01e",
   "metadata": {},
   "outputs": [
    {
     "data": {
      "text/plain": [
       "array([[0.23860334, 0.00918846],\n",
       "       [0.06837976, 0.46780928],\n",
       "       [0.98930998, 0.92363534]])"
      ]
     },
     "execution_count": 8,
     "metadata": {},
     "output_type": "execute_result"
    }
   ],
   "source": [
    "y"
   ]
  },
  {
   "cell_type": "code",
   "execution_count": 9,
   "id": "8e12d8e8",
   "metadata": {},
   "outputs": [
    {
     "data": {
      "text/plain": [
       "array([[0.6636466 , 0.93201135],\n",
       "       [1.20905513, 1.08935814],\n",
       "       [0.44688256, 0.56321075],\n",
       "       [0.60631704, 0.80087875],\n",
       "       [0.6844834 , 0.87881256]])"
      ]
     },
     "execution_count": 9,
     "metadata": {},
     "output_type": "execute_result"
    }
   ],
   "source": [
    "np.dot(x, y)"
   ]
  },
  {
   "cell_type": "markdown",
   "id": "f05bae63",
   "metadata": {},
   "source": [
    "#  What is the result of the following expression?"
   ]
  },
  {
   "cell_type": "code",
   "execution_count": 10,
   "id": "149ddd99",
   "metadata": {},
   "outputs": [],
   "source": [
    "#0 * np.nan"
   ]
  },
  {
   "cell_type": "code",
   "execution_count": 11,
   "id": "6d189886",
   "metadata": {},
   "outputs": [],
   "source": [
    "y = np.random.random((3,2))"
   ]
  },
  {
   "cell_type": "code",
   "execution_count": 12,
   "id": "b7233250",
   "metadata": {},
   "outputs": [
    {
     "data": {
      "text/plain": [
       "array([[0.51418276, 0.88620261],\n",
       "       [0.68522191, 0.34473519],\n",
       "       [0.4456957 , 0.76626735]])"
      ]
     },
     "execution_count": 12,
     "metadata": {},
     "output_type": "execute_result"
    }
   ],
   "source": [
    "y"
   ]
  },
  {
   "cell_type": "code",
   "execution_count": 14,
   "id": "c0386c36",
   "metadata": {},
   "outputs": [
    {
     "data": {
      "text/plain": [
       "nan"
      ]
     },
     "execution_count": 14,
     "metadata": {},
     "output_type": "execute_result"
    }
   ],
   "source": [
    "y"
   ]
  },
  {
   "cell_type": "code",
   "execution_count": 16,
   "id": "571394bd",
   "metadata": {},
   "outputs": [],
   "source": [
    "a_nan = np.array([0, 1, np.nan, float('nan')])"
   ]
  },
  {
   "cell_type": "code",
   "execution_count": 17,
   "id": "161f1773",
   "metadata": {},
   "outputs": [
    {
     "data": {
      "text/plain": [
       "array([ 0.,  1., nan, nan])"
      ]
     },
     "execution_count": 17,
     "metadata": {},
     "output_type": "execute_result"
    }
   ],
   "source": [
    "a_nan"
   ]
  },
  {
   "cell_type": "code",
   "execution_count": 18,
   "id": "8d3c17cc",
   "metadata": {},
   "outputs": [
    {
     "data": {
      "text/plain": [
       "False"
      ]
     },
     "execution_count": 18,
     "metadata": {},
     "output_type": "execute_result"
    }
   ],
   "source": [
    "np.nan == np.nan"
   ]
  },
  {
   "cell_type": "code",
   "execution_count": 19,
   "id": "7e01c9bf",
   "metadata": {},
   "outputs": [
    {
     "data": {
      "text/plain": [
       "False"
      ]
     },
     "execution_count": 19,
     "metadata": {},
     "output_type": "execute_result"
    }
   ],
   "source": [
    "np.inf > np.nan"
   ]
  },
  {
   "cell_type": "code",
   "execution_count": 20,
   "id": "e3b5dcab",
   "metadata": {},
   "outputs": [
    {
     "data": {
      "text/plain": [
       "nan"
      ]
     },
     "execution_count": 20,
     "metadata": {},
     "output_type": "execute_result"
    }
   ],
   "source": [
    "np.nan - np.nan"
   ]
  },
  {
   "cell_type": "code",
   "execution_count": 21,
   "id": "9a4eaca9",
   "metadata": {},
   "outputs": [
    {
     "data": {
      "text/plain": [
       "True"
      ]
     },
     "execution_count": 21,
     "metadata": {},
     "output_type": "execute_result"
    }
   ],
   "source": [
    "np.nan in set([np.nan])\n"
   ]
  },
  {
   "cell_type": "code",
   "execution_count": 22,
   "id": "e1112803",
   "metadata": {},
   "outputs": [
    {
     "data": {
      "text/plain": [
       "False"
      ]
     },
     "execution_count": 22,
     "metadata": {},
     "output_type": "execute_result"
    }
   ],
   "source": [
    "0.3 == 3 * 0.1"
   ]
  },
  {
   "cell_type": "markdown",
   "id": "811964f0",
   "metadata": {},
   "source": [
    "# Create a 10x10 array with random values and find the minimum and maximum values"
   ]
  },
  {
   "cell_type": "code",
   "execution_count": 23,
   "id": "976e3746",
   "metadata": {},
   "outputs": [],
   "source": [
    "y = np.random.random((10,10))"
   ]
  },
  {
   "cell_type": "code",
   "execution_count": 24,
   "id": "5f5d2583",
   "metadata": {},
   "outputs": [
    {
     "data": {
      "text/plain": [
       "array([[0.00120033, 0.6493018 , 0.77224764, 0.88449671, 0.25512657,\n",
       "        0.80102537, 0.98300917, 0.78399721, 0.64820392, 0.86366088],\n",
       "       [0.11909507, 0.40276469, 0.20775275, 0.72142992, 0.94836106,\n",
       "        0.50573238, 0.73368439, 0.88309561, 0.78866278, 0.78563276],\n",
       "       [0.34230233, 0.27689365, 0.90124631, 0.16697831, 0.36947253,\n",
       "        0.61306223, 0.79009362, 0.52059954, 0.68865202, 0.88417308],\n",
       "       [0.54222783, 0.97953994, 0.54243008, 0.64830913, 0.17473424,\n",
       "        0.59213479, 0.72631385, 0.51276099, 0.11023196, 0.86451104],\n",
       "       [0.55230957, 0.07541632, 0.28754222, 0.29122791, 0.94348416,\n",
       "        0.24976904, 0.39793527, 0.25470358, 0.78013709, 0.04168539],\n",
       "       [0.30949095, 0.98780303, 0.74347178, 0.30357174, 0.37953159,\n",
       "        0.37804548, 0.21613336, 0.50025438, 0.67601835, 0.31202481],\n",
       "       [0.44636348, 0.10384524, 0.62989038, 0.85118736, 0.69107614,\n",
       "        0.92803544, 0.31067004, 0.25025017, 0.63908973, 0.09720911],\n",
       "       [0.33562772, 0.60162883, 0.26876349, 0.40617074, 0.12934783,\n",
       "        0.68203958, 0.11275146, 0.90408949, 0.83663911, 0.39336699],\n",
       "       [0.93238024, 0.56912119, 0.25083168, 0.80026606, 0.9659021 ,\n",
       "        0.32176   , 0.92290904, 0.28174167, 0.6403455 , 0.56202752],\n",
       "       [0.05533531, 0.60371879, 0.39118588, 0.8243315 , 0.4366055 ,\n",
       "        0.72714869, 0.49694271, 0.32326995, 0.96093113, 0.21941271]])"
      ]
     },
     "execution_count": 24,
     "metadata": {},
     "output_type": "execute_result"
    }
   ],
   "source": [
    "y"
   ]
  },
  {
   "cell_type": "code",
   "execution_count": 28,
   "id": "acf40768",
   "metadata": {},
   "outputs": [
    {
     "data": {
      "text/plain": [
       "0.9878030340246997"
      ]
     },
     "execution_count": 28,
     "metadata": {},
     "output_type": "execute_result"
    }
   ],
   "source": [
    "np.max(y)"
   ]
  },
  {
   "cell_type": "code",
   "execution_count": 30,
   "id": "6f121ca3",
   "metadata": {},
   "outputs": [
    {
     "data": {
      "text/plain": [
       "0.0012003255390782286"
      ]
     },
     "execution_count": 30,
     "metadata": {},
     "output_type": "execute_result"
    }
   ],
   "source": [
    "np.min(y)"
   ]
  },
  {
   "cell_type": "markdown",
   "id": "b6bcab68",
   "metadata": {},
   "source": [
    "#  Create a null vector of size 10 but the fifth value which is 1 "
   ]
  },
  {
   "cell_type": "code",
   "execution_count": 31,
   "id": "6fe85e98",
   "metadata": {},
   "outputs": [
    {
     "data": {
      "text/plain": [
       "array([False, False, False, False,  True, False, False, False, False,\n",
       "       False])"
      ]
     },
     "execution_count": 31,
     "metadata": {},
     "output_type": "execute_result"
    }
   ],
   "source": [
    "np.arange(10) == 4"
   ]
  },
  {
   "cell_type": "code",
   "execution_count": 34,
   "id": "deed961d",
   "metadata": {},
   "outputs": [
    {
     "data": {
      "text/plain": [
       "array([0, 1, 2, 3, 4, 5, 6, 7, 8, 9])"
      ]
     },
     "execution_count": 34,
     "metadata": {},
     "output_type": "execute_result"
    }
   ],
   "source": [
    "np.arange(10) * 1"
   ]
  },
  {
   "cell_type": "code",
   "execution_count": 36,
   "id": "a669f65c",
   "metadata": {},
   "outputs": [],
   "source": [
    "z = np.zeros(10)"
   ]
  },
  {
   "cell_type": "code",
   "execution_count": 37,
   "id": "717fe2c5",
   "metadata": {},
   "outputs": [
    {
     "data": {
      "text/plain": [
       "array([0., 0., 0., 0., 0., 0., 0., 0., 0., 0.])"
      ]
     },
     "execution_count": 37,
     "metadata": {},
     "output_type": "execute_result"
    }
   ],
   "source": [
    "z"
   ]
  },
  {
   "cell_type": "code",
   "execution_count": 38,
   "id": "248184bf",
   "metadata": {},
   "outputs": [],
   "source": [
    "z[4] = 1"
   ]
  },
  {
   "cell_type": "code",
   "execution_count": 39,
   "id": "d36a743c",
   "metadata": {},
   "outputs": [
    {
     "data": {
      "text/plain": [
       "array([0., 0., 0., 0., 1., 0., 0., 0., 0., 0.])"
      ]
     },
     "execution_count": 39,
     "metadata": {},
     "output_type": "execute_result"
    }
   ],
   "source": [
    "z"
   ]
  },
  {
   "cell_type": "code",
   "execution_count": null,
   "id": "160943ee",
   "metadata": {},
   "outputs": [],
   "source": []
  }
 ],
 "metadata": {
  "kernelspec": {
   "display_name": "Python 3 (ipykernel)",
   "language": "python",
   "name": "python3"
  },
  "language_info": {
   "codemirror_mode": {
    "name": "ipython",
    "version": 3
   },
   "file_extension": ".py",
   "mimetype": "text/x-python",
   "name": "python",
   "nbconvert_exporter": "python",
   "pygments_lexer": "ipython3",
   "version": "3.9.13"
  }
 },
 "nbformat": 4,
 "nbformat_minor": 5
}
