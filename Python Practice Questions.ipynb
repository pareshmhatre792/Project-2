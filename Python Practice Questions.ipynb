{
 "cells": [
  {
   "cell_type": "code",
   "execution_count": 2,
   "id": "3a73d1d2",
   "metadata": {},
   "outputs": [],
   "source": [
    "import pandas as pd"
   ]
  },
  {
   "cell_type": "markdown",
   "id": "ab939df2",
   "metadata": {},
   "source": [
    "# Create A Series Using Dict In Pandas"
   ]
  },
  {
   "cell_type": "code",
   "execution_count": 3,
   "id": "0e2eb0a0",
   "metadata": {},
   "outputs": [],
   "source": [
    "dictionary = {'A' : 10, 'B' : 20, 'C' : 30}\n",
    "series = pd.Series(dictionary)"
   ]
  },
  {
   "cell_type": "code",
   "execution_count": 4,
   "id": "7b83c5ed",
   "metadata": {},
   "outputs": [
    {
     "data": {
      "text/plain": [
       "A    10\n",
       "B    20\n",
       "C    30\n",
       "dtype: int64"
      ]
     },
     "execution_count": 4,
     "metadata": {},
     "output_type": "execute_result"
    }
   ],
   "source": [
    "series"
   ]
  },
  {
   "cell_type": "markdown",
   "id": "eba7ebb3",
   "metadata": {},
   "source": [
    "# How To Create A Copy Of The Series In Pandas?"
   ]
  },
  {
   "cell_type": "code",
   "execution_count": 8,
   "id": "96a6809c",
   "metadata": {},
   "outputs": [],
   "source": [
    "series_copy= series.copy()"
   ]
  },
  {
   "cell_type": "code",
   "execution_count": 9,
   "id": "90bbd1af",
   "metadata": {},
   "outputs": [
    {
     "data": {
      "text/plain": [
       "A    10\n",
       "B    20\n",
       "C    30\n",
       "dtype: int64"
      ]
     },
     "execution_count": 9,
     "metadata": {},
     "output_type": "execute_result"
    }
   ],
   "source": [
    "series_copy"
   ]
  },
  {
   "cell_type": "markdown",
   "id": "c1a555d0",
   "metadata": {},
   "source": [
    "#  Create a DataFrame using List"
   ]
  },
  {
   "cell_type": "code",
   "execution_count": 34,
   "id": "d33b5b32",
   "metadata": {},
   "outputs": [],
   "source": [
    "Avengers = ['Iron Man', 'CaptaiN America', 'Thor', 'Black Widow', 'Hawkeye']"
   ]
  },
  {
   "cell_type": "code",
   "execution_count": 35,
   "id": "0aa78a0c",
   "metadata": {},
   "outputs": [],
   "source": [
    "df= pd.DataFrame(Avengers)"
   ]
  },
  {
   "cell_type": "code",
   "execution_count": 36,
   "id": "3f594d6d",
   "metadata": {},
   "outputs": [
    {
     "name": "stdout",
     "output_type": "stream",
     "text": [
      "                 0\n",
      "0         Iron Man\n",
      "1  CaptaiN America\n",
      "2             Thor\n",
      "3      Black Widow\n",
      "4          Hawkeye\n"
     ]
    }
   ],
   "source": [
    "print(df)"
   ]
  },
  {
   "cell_type": "markdown",
   "id": "cf508c85",
   "metadata": {},
   "source": [
    "# What Are The Different Ways A DataFrame Can Be Created In pandas? "
   ]
  },
  {
   "cell_type": "code",
   "execution_count": 37,
   "id": "52341b46",
   "metadata": {},
   "outputs": [],
   "source": [
    "data = {'Name': ['Iron Man', 'CaptaiN America', 'Thor', 'Black Widow', 'Hawkeye'],\n",
    "        'Power level': [75, 85, 100, 45, 50]}"
   ]
  },
  {
   "cell_type": "code",
   "execution_count": 40,
   "id": "f986ac13",
   "metadata": {},
   "outputs": [],
   "source": [
    "df = pd.DataFrame(data, index=['rank1','rank2','rank3', 'rank4', 'rank5'])"
   ]
  },
  {
   "cell_type": "code",
   "execution_count": 41,
   "id": "39855abe",
   "metadata": {},
   "outputs": [
    {
     "data": {
      "text/html": [
       "<div>\n",
       "<style scoped>\n",
       "    .dataframe tbody tr th:only-of-type {\n",
       "        vertical-align: middle;\n",
       "    }\n",
       "\n",
       "    .dataframe tbody tr th {\n",
       "        vertical-align: top;\n",
       "    }\n",
       "\n",
       "    .dataframe thead th {\n",
       "        text-align: right;\n",
       "    }\n",
       "</style>\n",
       "<table border=\"1\" class=\"dataframe\">\n",
       "  <thead>\n",
       "    <tr style=\"text-align: right;\">\n",
       "      <th></th>\n",
       "      <th>Name</th>\n",
       "      <th>Power level</th>\n",
       "    </tr>\n",
       "  </thead>\n",
       "  <tbody>\n",
       "    <tr>\n",
       "      <th>rank1</th>\n",
       "      <td>Iron Man</td>\n",
       "      <td>75</td>\n",
       "    </tr>\n",
       "    <tr>\n",
       "      <th>rank2</th>\n",
       "      <td>CaptaiN America</td>\n",
       "      <td>85</td>\n",
       "    </tr>\n",
       "    <tr>\n",
       "      <th>rank3</th>\n",
       "      <td>Thor</td>\n",
       "      <td>100</td>\n",
       "    </tr>\n",
       "    <tr>\n",
       "      <th>rank4</th>\n",
       "      <td>Black Widow</td>\n",
       "      <td>45</td>\n",
       "    </tr>\n",
       "    <tr>\n",
       "      <th>rank5</th>\n",
       "      <td>Hawkeye</td>\n",
       "      <td>50</td>\n",
       "    </tr>\n",
       "  </tbody>\n",
       "</table>\n",
       "</div>"
      ],
      "text/plain": [
       "                  Name  Power level\n",
       "rank1         Iron Man           75\n",
       "rank2  CaptaiN America           85\n",
       "rank3             Thor          100\n",
       "rank4      Black Widow           45\n",
       "rank5          Hawkeye           50"
      ]
     },
     "execution_count": 41,
     "metadata": {},
     "output_type": "execute_result"
    }
   ],
   "source": [
    "df"
   ]
  },
  {
   "cell_type": "markdown",
   "id": "9a0b3018",
   "metadata": {},
   "source": [
    "# Write a Pandas program to join the two given dataframes along rows and assign all data"
   ]
  },
  {
   "cell_type": "code",
   "execution_count": 42,
   "id": "43b48823",
   "metadata": {},
   "outputs": [],
   "source": [
    "Avengers = pd.DataFrame({'Name': ['Iron Man', 'CaptaiN America', 'Thor', 'Black Widow', 'Hawkeye', 'HUlk'],\n",
    "        'Power level': [75, 85, 100, 45, 50, 100]})"
   ]
  },
  {
   "cell_type": "code",
   "execution_count": 44,
   "id": "6c7e10f8",
   "metadata": {},
   "outputs": [],
   "source": [
    "New_Avengers = pd.DataFrame({'Name': ['Spiderman', 'Scarlet Witch', 'Black Panther', 'Falcon', 'Ant Man', 'Captain Marvel'],\n",
    "        'Power level': [95, 99, 95, 72, 75, 100]})"
   ]
  },
  {
   "cell_type": "code",
   "execution_count": 45,
   "id": "3f4e7630",
   "metadata": {},
   "outputs": [],
   "source": [
    "result_data = pd.concat([Avengers, New_Avengers])"
   ]
  },
  {
   "cell_type": "code",
   "execution_count": 46,
   "id": "9be80bad",
   "metadata": {},
   "outputs": [
    {
     "data": {
      "text/html": [
       "<div>\n",
       "<style scoped>\n",
       "    .dataframe tbody tr th:only-of-type {\n",
       "        vertical-align: middle;\n",
       "    }\n",
       "\n",
       "    .dataframe tbody tr th {\n",
       "        vertical-align: top;\n",
       "    }\n",
       "\n",
       "    .dataframe thead th {\n",
       "        text-align: right;\n",
       "    }\n",
       "</style>\n",
       "<table border=\"1\" class=\"dataframe\">\n",
       "  <thead>\n",
       "    <tr style=\"text-align: right;\">\n",
       "      <th></th>\n",
       "      <th>Name</th>\n",
       "      <th>Power level</th>\n",
       "    </tr>\n",
       "  </thead>\n",
       "  <tbody>\n",
       "    <tr>\n",
       "      <th>0</th>\n",
       "      <td>Iron Man</td>\n",
       "      <td>75</td>\n",
       "    </tr>\n",
       "    <tr>\n",
       "      <th>1</th>\n",
       "      <td>CaptaiN America</td>\n",
       "      <td>85</td>\n",
       "    </tr>\n",
       "    <tr>\n",
       "      <th>2</th>\n",
       "      <td>Thor</td>\n",
       "      <td>100</td>\n",
       "    </tr>\n",
       "    <tr>\n",
       "      <th>3</th>\n",
       "      <td>Black Widow</td>\n",
       "      <td>45</td>\n",
       "    </tr>\n",
       "    <tr>\n",
       "      <th>4</th>\n",
       "      <td>Hawkeye</td>\n",
       "      <td>50</td>\n",
       "    </tr>\n",
       "    <tr>\n",
       "      <th>5</th>\n",
       "      <td>HUlk</td>\n",
       "      <td>100</td>\n",
       "    </tr>\n",
       "    <tr>\n",
       "      <th>0</th>\n",
       "      <td>Spiderman</td>\n",
       "      <td>95</td>\n",
       "    </tr>\n",
       "    <tr>\n",
       "      <th>1</th>\n",
       "      <td>Scarlet Witch</td>\n",
       "      <td>99</td>\n",
       "    </tr>\n",
       "    <tr>\n",
       "      <th>2</th>\n",
       "      <td>Black Panther</td>\n",
       "      <td>95</td>\n",
       "    </tr>\n",
       "    <tr>\n",
       "      <th>3</th>\n",
       "      <td>Falcon</td>\n",
       "      <td>72</td>\n",
       "    </tr>\n",
       "    <tr>\n",
       "      <th>4</th>\n",
       "      <td>Ant Man</td>\n",
       "      <td>75</td>\n",
       "    </tr>\n",
       "    <tr>\n",
       "      <th>5</th>\n",
       "      <td>Captain Marvel</td>\n",
       "      <td>100</td>\n",
       "    </tr>\n",
       "  </tbody>\n",
       "</table>\n",
       "</div>"
      ],
      "text/plain": [
       "              Name  Power level\n",
       "0         Iron Man           75\n",
       "1  CaptaiN America           85\n",
       "2             Thor          100\n",
       "3      Black Widow           45\n",
       "4          Hawkeye           50\n",
       "5             HUlk          100\n",
       "0        Spiderman           95\n",
       "1    Scarlet Witch           99\n",
       "2    Black Panther           95\n",
       "3           Falcon           72\n",
       "4          Ant Man           75\n",
       "5   Captain Marvel          100"
      ]
     },
     "execution_count": 46,
     "metadata": {},
     "output_type": "execute_result"
    }
   ],
   "source": [
    "result_data"
   ]
  },
  {
   "cell_type": "markdown",
   "id": "e89bde52",
   "metadata": {},
   "source": [
    "# Write a Python program to find the maximum and minimum value of array"
   ]
  },
  {
   "cell_type": "code",
   "execution_count": 18,
   "id": "fb7904c3",
   "metadata": {},
   "outputs": [],
   "source": [
    "import numpy as np"
   ]
  },
  {
   "cell_type": "code",
   "execution_count": 19,
   "id": "3df370ce",
   "metadata": {},
   "outputs": [],
   "source": [
    "ar = np.array([1, 2, 3, 4, 5])"
   ]
  },
  {
   "cell_type": "code",
   "execution_count": 20,
   "id": "6c3ead84",
   "metadata": {},
   "outputs": [
    {
     "data": {
      "text/plain": [
       "array([1, 2, 3, 4, 5])"
      ]
     },
     "execution_count": 20,
     "metadata": {},
     "output_type": "execute_result"
    }
   ],
   "source": [
    "ar"
   ]
  },
  {
   "cell_type": "code",
   "execution_count": 22,
   "id": "a7ac88e9",
   "metadata": {},
   "outputs": [
    {
     "data": {
      "text/plain": [
       "5"
      ]
     },
     "execution_count": 22,
     "metadata": {},
     "output_type": "execute_result"
    }
   ],
   "source": [
    "np.max(ar)"
   ]
  },
  {
   "cell_type": "code",
   "execution_count": 23,
   "id": "ae9fa616",
   "metadata": {},
   "outputs": [
    {
     "data": {
      "text/plain": [
       "1"
      ]
     },
     "execution_count": 23,
     "metadata": {},
     "output_type": "execute_result"
    }
   ],
   "source": [
    "np.min(ar)"
   ]
  },
  {
   "cell_type": "markdown",
   "id": "e78ad6df",
   "metadata": {},
   "source": [
    "# Write a NumPy program to repeat all the elements three times of a given array of string\n",
    "['Pie' ,'pigeon' ,'Joker' ,'Cake']\n"
   ]
  },
  {
   "cell_type": "code",
   "execution_count": 24,
   "id": "e1cfe796",
   "metadata": {},
   "outputs": [
    {
     "data": {
      "text/plain": [
       "array(['Pie', 'pigeon', 'Joker', 'Cake', 'Pie', 'pigeon', 'Joker', 'Cake',\n",
       "       'Pie', 'pigeon', 'Joker', 'Cake'], dtype='<U6')"
      ]
     },
     "execution_count": 24,
     "metadata": {},
     "output_type": "execute_result"
    }
   ],
   "source": [
    "x = np.array(['Pie' ,'pigeon' ,'Joker' ,'Cake'])\n",
    "np.tile(x,3)"
   ]
  },
  {
   "cell_type": "code",
   "execution_count": null,
   "id": "e8e3532e",
   "metadata": {},
   "outputs": [],
   "source": []
  }
 ],
 "metadata": {
  "kernelspec": {
   "display_name": "Python 3 (ipykernel)",
   "language": "python",
   "name": "python3"
  },
  "language_info": {
   "codemirror_mode": {
    "name": "ipython",
    "version": 3
   },
   "file_extension": ".py",
   "mimetype": "text/x-python",
   "name": "python",
   "nbconvert_exporter": "python",
   "pygments_lexer": "ipython3",
   "version": "3.9.13"
  }
 },
 "nbformat": 4,
 "nbformat_minor": 5
}
